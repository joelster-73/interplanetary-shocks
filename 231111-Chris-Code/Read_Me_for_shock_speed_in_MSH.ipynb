{
 "cells": [
  {
   "cell_type": "markdown",
   "id": "95cba5bf",
   "metadata": {},
   "source": [
    "# Read me for Speed of Shocks in the MSH\n",
    "_Christopher Butcher_\n",
    "\n",
    "_Emails:_\n",
    "- _cmmb503@york.ac.uk_\n",
    "- _thechrisbutcher@gmail.com_\n",
    "\n",
    "_Last Updated: 13/09/2023_"
   ]
  },
  {
   "cell_type": "markdown",
   "id": "37771a8a",
   "metadata": {},
   "source": [
    "---\n",
    "\n",
    "## Introduction\n",
    "I have written this notebook to try and have some of the code I wrote and used during my internship not go to waste. You will likely notice that there are lots of spelling errors in my code and my writing, so sorry in advance.\n",
    "\n",
    "Below Is a contents table to help you find any bits of code that may be useful. I will also try and explain how to get some other peoples code to work (De Welle's code).\n",
    "\n",
    "For more Info/code please email me (as stated above) or ask Clément to contact me. I have some code I wrote late into the internship that calculates the non-local f-value for measured shocks inside the MSH (where measurments come from Val's code). If this is something you require/want please do get in touch as it should save you some time. "
   ]
  },
  {
   "cell_type": "markdown",
   "id": "4d53e1b4",
   "metadata": {},
   "source": [
    "# Table of Contents\n",
    "\n",
    "1. [g-value code (B. Michotte de Welle)](#g_val_code)\n",
    "    1. [MSH Boundaries](#MSHBound)\n",
    "        1. [Plotting MSH Boundaries](#boundPlot)\n",
    "    2. [g-value at a point](#g_val_point)\n",
    "        1. [Note on Dynamic Pressure](#dynamic_pressure)\n",
    "2. [My Modules](#MyModules)\n",
    "    1. [Coordinate_Systems.py](#Coordinatesystems)\n",
    "    2. [Shocks_propagation.py](#shocks_prop_mod)\n",
    "3. [V2_Rand_prop_points.py](#rand_point)\n",
    "4. [Berdichevsky Shock json file](#shocks_file)"
   ]
  },
  {
   "cell_type": "markdown",
   "id": "10451fa0",
   "metadata": {},
   "source": [
    "## g-value code (B. Michotte de Welle) <a name=\"g_val_code\"></a>\n",
    "_There is a tutorial for this code that you may have seen (I should have attached it this folder sent, tutorial_utilisation_knn.ipynb). I will try and explain its applications here though._\n",
    "\n",
    "I used this code to map out the Boundaries of the Bow Shock and the Magnetopause. I also used it to find the value of $\\vec{g}(\\vec{r})$ which is defined for the bulk velocity as the following.\n",
    "$$\\vec{g}(\\vec{r}) = \\frac{\\vec{u}_{msh}}{|\\vec{u}_{sw}|}$$\n",
    "\n",
    "---\n",
    "\n",
    "### MSH Boundaries <a name=\"MSHBound\"></a>\n",
    "The geometry of the Bow shock and Magnetopause often comes in handy seeing as they are the magnetosheaths boundaries.\n",
    "\n",
    "You require the following imports/modules to find the boundaries of the MSH.\n",
    "\n",
    "To get the space module:\n",
    "1. download the \"space\" package from git : git clone https://github.com/LaboratoryOfPlasmaPhysics/space\n",
    "2. import the package (cf the cell below, where you may need to adapt the \"path\")"
   ]
  },
  {
   "cell_type": "code",
   "execution_count": 1,
   "id": "a797eeb6",
   "metadata": {},
   "outputs": [
    {
     "ename": "ModuleNotFoundError",
     "evalue": "No module named 'sklearn'",
     "output_type": "error",
     "traceback": [
      "\u001b[1;31m---------------------------------------------------------------------------\u001b[0m",
      "\u001b[1;31mModuleNotFoundError\u001b[0m                       Traceback (most recent call last)",
      "Cell \u001b[1;32mIn [1], line 11\u001b[0m\n\u001b[0;32m      9\u001b[0m \u001b[38;5;28;01mimport\u001b[39;00m \u001b[38;5;21;01msys\u001b[39;00m\n\u001b[0;32m     10\u001b[0m \u001b[38;5;28;01mimport\u001b[39;00m \u001b[38;5;21;01mos\u001b[39;00m\n\u001b[1;32m---> 11\u001b[0m \u001b[38;5;28;01mimport\u001b[39;00m \u001b[38;5;21;01msklearn\u001b[39;00m\n\u001b[0;32m     12\u001b[0m \u001b[38;5;66;03m# -\u001b[39;00m\n\u001b[0;32m     13\u001b[0m \u001b[38;5;66;03m# - Space Module imports (May need to change path name)\u001b[39;00m\n\u001b[0;32m     14\u001b[0m sys\u001b[38;5;241m.\u001b[39mpath\u001b[38;5;241m.\u001b[39mappend(\u001b[38;5;124m'\u001b[39m\u001b[38;5;124m/Users/christopherbutcher/Downloads/Summer Masterclass/space\u001b[39m\u001b[38;5;124m'\u001b[39m)\n",
      "\u001b[1;31mModuleNotFoundError\u001b[0m: No module named 'sklearn'"
     ]
    }
   ],
   "source": [
    "import numpy as np\n",
    "import pandas as pd\n",
    "import matplotlib.pyplot as plt\n",
    "import sys\n",
    "# -\n",
    "import numpy as np\n",
    "import pandas as pd\n",
    "import matplotlib.pyplot as plt\n",
    "import sys\n",
    "import os\n",
    "import sklearn\n",
    "# -\n",
    "# - Space Module imports (May need to change path name)\n",
    "sys.path.append('/Users/christopherbutcher/Downloads/Summer Masterclass/space')\n",
    "import space\n",
    "from space.models import planetary as smp\n",
    "from space import smath as sm\n",
    "from space.coordinates import coordinates as scc\n",
    "from space import utils as su\n",
    "# - \n",
    "# - Paste this code for def of msh. prefix\n",
    "#\n",
    "# magnetosheath model using shue98 et jelinek2012\n",
    "msh = smp.Magnetosheath(magnetopause='mp_shue1998', bow_shock ='bs_jelinek2012')\n",
    "# - "
   ]
  },
  {
   "cell_type": "markdown",
   "id": "2a741d02",
   "metadata": {},
   "source": [
    "Code examples of finding points on the Bow shock and magentopause."
   ]
  },
  {
   "cell_type": "code",
   "execution_count": null,
   "id": "504478bd",
   "metadata": {},
   "outputs": [],
   "source": [
    "# The inputs are (theta,phi) - In radians!!!\n",
    "# And this assumes SWI coordinate system!!\n",
    "\n",
    "# --------------------- Bow Shock\n",
    "theta = 0 ; phi = 0\n",
    "bow_shock_point = msh.bow_shock(theta,phi)\n",
    "print(\"SWI cartesian coordinate of Bow shock point: \", bow_shock_point)\n",
    "# The Output is in SWI Cartesians (In units of r_E - Earth Radii)\n",
    "#\n",
    "# --------------------- Magnetopause\n",
    "mp_point = msh.magnetopause(theta,phi)\n",
    "print(\"SWI cartesian coordinate of magnetopause point: \", mp_point)"
   ]
  },
  {
   "cell_type": "markdown",
   "id": "739a0c1d",
   "metadata": {},
   "source": [
    "#### Plotting MSH Boundaries <a name=\"boundPlot\"></a>\n",
    "Here I will plot the Bow Shock (Red) and the Magnetopause (Blue) in 3D SWI coordinates."
   ]
  },
  {
   "cell_type": "code",
   "execution_count": null,
   "id": "d5517328",
   "metadata": {},
   "outputs": [],
   "source": [
    "# Requires import of one of my modules (see later section on Coordinate_systems.py for more)\n",
    "import Coordinate_systems as co\n",
    "\n",
    "phi_max    = 360\n",
    "phi_min    = 0\n",
    "phi_step   = 20\n",
    "\n",
    "theta_max  = 100\n",
    "theta_min  = 0\n",
    "theta_step = 10\n",
    "\n",
    "x_bs=[] ; x_mp=[]\n",
    "y_bs=[] ; y_mp=[]\n",
    "z_bs=[] ; z_mp=[]\n",
    "\n",
    "for theta_i in range(theta_min,theta_max,theta_step):\n",
    "    for phi_i in range(phi_min,phi_max,phi_step):\n",
    "        \n",
    "        theta = co.deg2rad(theta_i) ## /2 to make more accurate\n",
    "        phi   = co.deg2rad(phi_i)\n",
    "        \n",
    "        # For Bow Shock\n",
    "        bs_points = msh.bow_shock(theta,phi)\n",
    "        \n",
    "        # For Plotting\n",
    "        x_bs.append(bs_points[0])\n",
    "        y_bs.append(bs_points[1])\n",
    "        z_bs.append(bs_points[2])\n",
    "        \n",
    "        # For Magnetopause\n",
    "        mp_points = msh.magnetopause(theta,phi)\n",
    "        \n",
    "        x_mp.append(mp_points[0])\n",
    "        y_mp.append(mp_points[1])\n",
    "        z_mp.append(mp_points[2])"
   ]
  },
  {
   "cell_type": "markdown",
   "id": "afcaf7c7",
   "metadata": {},
   "source": [
    "**Tip - Making plots interactive**\n",
    "Use ```%matplotlib notebook```"
   ]
  },
  {
   "cell_type": "code",
   "execution_count": null,
   "id": "555bc1f3",
   "metadata": {},
   "outputs": [],
   "source": [
    "# Plott\n",
    "%matplotlib notebook\n",
    "\n",
    "# creating figure\n",
    "fig = plt.figure()\n",
    "ax = fig.add_subplot(projection='3d')\n",
    "\n",
    "\n",
    "ax.scatter(x_bs,y_bs,z_bs,color='red')\n",
    "ax.scatter(x_mp,y_mp,z_mp,color='blue')\n",
    "\n",
    "# setting title and labels\n",
    "ax.set_title(\"Magnetosheath Boundaries\")\n",
    "ax.set_xlabel('x-axis')\n",
    "ax.set_ylabel('y-axis')\n",
    "ax.set_zlabel('z-axis')\n",
    " \n",
    "# displaying the plot\n",
    "plt.show()"
   ]
  },
  {
   "cell_type": "markdown",
   "id": "21142b6b",
   "metadata": {},
   "source": [
    "## Important note about MSH boundaries (Dynamic Pressure) <a name=\"dynamic_pressure\"></a>\n",
    "\n",
    "As you would expect the boundaries of the MSH (Magnetopause and Bow shock) will depend on the speed of the solar wind and the density of the solar wind (upstream of the shock). These two quantities define the dynamic pressure (DP).\n",
    "\n",
    "The DP is defined as follows:\n",
    "$$ P_D = \\rho \\cdot |\\vec{u}_{sw}|^2$$\n",
    "\n",
    "Often the denisty ($\\rho$) is quoted in particles/cm$^3$. So to calculate the DP you must convert to SI units (kg/m$^3$) via the following equation.\n",
    "$$ \\rho_{SI} =  (10^{6} \\cdot  1.67 \\cdot 10^{-27})\\cdot \\rho_{cm^{-3}}$$\n",
    "\n",
    "You must also convert the solar wind bulk velocity from km/s to m/s by multiplying by $10^3$.\n",
    "\n",
    "Now using the SI unit values you can calculate the DP. The expected units of the DP (for De Welle's functions) will be in nano Pascals (nPa) and can be used in the functions, ```msh.bow_shock``` and ```msh.magnetopause```. This will then adjust the geometry of the two according to the DP. An example is shown below on how to do this in code."
   ]
  },
  {
   "cell_type": "code",
   "execution_count": null,
   "id": "6136add7",
   "metadata": {},
   "outputs": [],
   "source": [
    "# Will explain this module later, but must be used here for calcualtion\n",
    "import Coordinate_systems as co"
   ]
  },
  {
   "cell_type": "code",
   "execution_count": null,
   "id": "5a9b910f",
   "metadata": {},
   "outputs": [],
   "source": [
    "# GSE defined\n",
    "u_sw_GSE = np.array([-343.3733333333334,-10.817986666666668,8.047686666666666]) * 1e3 # m/s\n",
    "\n",
    "# Density (in particles/cm^3)\n",
    "sw_density_up = 20\n",
    "\n",
    "# Converting to (m^-3)\n",
    "sw_density_up = sw_density_up * 1e6* 1.67e-27\n",
    "\n",
    "# ---\n",
    "\n",
    "# Dynamic pressure Calculation                      (Make Nano Pascal)\n",
    "Dyn_Press = ((sw_density_up*(co.mag(u_sw_GSE))**2)) * 1e9 \n",
    "\n",
    "print('Dynamic Pressure: ',Dyn_Press,\"nPa\")"
   ]
  },
  {
   "cell_type": "markdown",
   "id": "6b16387a",
   "metadata": {},
   "source": [
    "### How to change MSH geometry based on Dynamic pressure\n",
    "\n",
    "We now want to use the dynamic pressure to change the geometry of the boundaries. This can be done as shown in the code. (simply include the dynamic pressure after $\\theta,\\varphi$ values)."
   ]
  },
  {
   "cell_type": "code",
   "execution_count": null,
   "id": "14455c87",
   "metadata": {},
   "outputs": [],
   "source": [
    "print(\"Bow-shock nose:\")\n",
    "\n",
    "# Here is the new bow_shock nose (accounting for dynamic pressure)\n",
    "bs_point_dp = msh.bow_shock(0,0,Pd=Dyn_Press)\n",
    "print(\"accounting for dynamic pressure:\",bs_point_dp)\n",
    "\n",
    "# Original nose values not accounting for dynamic pressure (in R_E)\n",
    "bs_point = msh.bow_shock(0,0)\n",
    "print(\"NOT-accounting for dynamic pressure:\",bs_point,\"\\n\")\n",
    "\n",
    "print(\"Magnetopause nose:\")\n",
    "\n",
    "# New magnetopause nose (accounting for dynamic pressure)\n",
    "mp_point_dp = msh.magnetopause(0,0,Pd=Dyn_Press)\n",
    "print(\"accounting for dynamic pressure:\",mp_point_dp)\n",
    "\n",
    "# New magnetopause nose (accounting for dynamic pressure)\n",
    "mp_point = msh.magnetopause(0,0)\n",
    "print(\"NOT-accounting for dynamic pressure:\",mp_point)"
   ]
  },
  {
   "cell_type": "markdown",
   "id": "3754b7ec",
   "metadata": {},
   "source": [
    "## g-value at a point <a name=\"g_val_point\"></a>\n",
    "You can also use the statistical data provided by de Welle's 'KNN_swi_Vall_k50000.pkl' file to find the bulk velocity ratio (previously denoted as $\\vec{g}(\\vec{r})$. This 'pkl' file is massive so goodluck finding some space to store it. You will need to also have the correct ```sklearn``` package import otherwise you will get a error to do with you not having the 'EuclidianDistance' metric (something like that).\n",
    "\n",
    "First we will begin with the imports and then the interpval function."
   ]
  },
  {
   "cell_type": "code",
   "execution_count": null,
   "id": "483ea4e5",
   "metadata": {},
   "outputs": [],
   "source": [
    "import numpy as np\n",
    "import pandas as pd\n",
    "import matplotlib.pyplot as plt\n",
    "import sys\n",
    "import os\n",
    "import sklearn"
   ]
  },
  {
   "cell_type": "code",
   "execution_count": null,
   "id": "75491db8",
   "metadata": {},
   "outputs": [],
   "source": [
    "# Note you will need to reference where this file is!\n",
    "interpvall = pd.read_pickle('/Users/christopherbutcher/Downloads/Summer Masterclass/KNN_swi_Vall_k50000.pkl')"
   ]
  },
  {
   "cell_type": "markdown",
   "id": "da51bfe7",
   "metadata": {},
   "source": [
    "**If error with sklearn occurs**\n",
    "Try these updadtes for sklearn in your terminal:\n",
    "\n",
    "```pip install --upgrade scikit-learn```\n",
    "\n",
    "```pip install --upgrade imbalanced-learn```\n",
    "\n",
    "### This function calculates g at a point defined in SWI Cartesians"
   ]
  },
  {
   "cell_type": "code",
   "execution_count": null,
   "id": "72830ade",
   "metadata": {},
   "outputs": [],
   "source": [
    "def g_at_point(x,y,z):\n",
    "    # usage for a single point:\n",
    "    pos = np.asarray([[x,y,z]])\n",
    "    vx,vy,vz = interpvall.predict(pos).T\n",
    "    #vx,vy,vz\n",
    "        \n",
    "    g_vec = np.asarray([vx[0],vy[0],vz[0]])\n",
    "    return g_vec"
   ]
  },
  {
   "cell_type": "code",
   "execution_count": null,
   "id": "e18f420f",
   "metadata": {},
   "outputs": [],
   "source": [
    "# Test/example:\n",
    "# -\n",
    "# Halfway between the nose of the bowshock and the magnetopause\n",
    "r_bs = msh.bow_shock(0,0)\n",
    "r_mp = msh.magnetopause(0,0)\n",
    "middle_dist = co.mag(np.asarray(r_bs)-np.asarray(r_mp)) # np.asarray makes this into a array [] instead of a tuple ()\n",
    "\n",
    "halfway_cart_point = np.asarray(r_mp) + np.array([middle_dist/2,0,0])\n",
    "\n",
    "# g-calculation\n",
    "g = g_at_point(halfway_cart_point[0],halfway_cart_point[1],halfway_cart_point[2])\n",
    "print('The g-value at the midpoint at the nose is: ', g)\n",
    "print('the magnitude is: ', co.mag(g))"
   ]
  },
  {
   "cell_type": "markdown",
   "id": "6cd0598f",
   "metadata": {},
   "source": [
    "## My Modules <a name=\"MyModules\"></a>\n",
    "Here I will demonstrate the uses of the functions I have written in these modules. **Before using these modules you will need to change the file paths to where your files are stored**"
   ]
  },
  {
   "cell_type": "markdown",
   "id": "e394909a",
   "metadata": {},
   "source": [
    "### Coordinate_Systems.py <a name=\"Coordinatesystems\"></a>\n",
    "\n",
    "This module contains the following functions. For more detail on each function, please open the .py file for notes on each function and there definitions.\n",
    "\n",
    "Module Contents and there uses:\n",
    "     \n",
    "   - Imports\n",
    "\n",
    "   - Vectors:\n",
    "       - mag | **Calculates magnitude of a vector (for tuples,lists and arrays)**\n",
    "   \n",
    "   - Angle Conversions:\n",
    "       - deg2rad | **converts degrees to radians**\n",
    "       - rad2deg | **converts radians to degrees**\n",
    "     \n",
    "   - GSE Coordinates:\n",
    "       - spher2cart_GSE | **Converts GSE spherical coordinates to GSE cartesians: $(r,\\theta,\\varphi)\\rightarrow(x,y,z)$**\n",
    "       - cart2spher_GSE | **Converts GSE cartesians to GSE sphericals: $(x,y,z)\\rightarrow(r,\\theta,\\varphi)$**\n",
    "   \n",
    "   \n",
    "   - SWI Coordinates:\n",
    "       - SWI Spherical polar transforms:\n",
    "           - spher2cart_SWI | **Converts SWI spherical coordinates to SWI cartesians: $(r,\\theta,\\varphi)\\rightarrow(x,y,z)$**\n",
    "           - cart2spher_SWI | **Converts SWI cartesians to SWI sphericals: $(x,y,z)\\rightarrow(r,\\theta,\\varphi)$**\n",
    "\n",
    "   - SWI and GSE Transformations:\n",
    "       - GSE2SWI | **Transforms a GSE defined vector to SWI vector: $(x_{GSE},y_{GSE},z_{GSE})\\rightarrow(x_{SWI},y_{SWI},z_{SWI})$, given input:\n",
    "       ```(GSE vector,swi_base)```, where ```swi_base``` is defined by its function**\n",
    "       \n",
    "       - SWI2GSE | **Transforms a SWI defined vector to GSE vector: $(x_{SWI}yx_{SWI}zx_{SWI})\\rightarrow(x_{GSE},y_{GSE},z_{GSE})$, given input:\n",
    "       ```(SWI vector,swi_base)```, where ```swi_base``` is defined by its function**\n",
    "\n",
    "   - Welle's coordinates Module functions:\n",
    "       - swi_base | **This function takes in the values of the solarwind bulk velocity and solar wind magnetic field in GSE coordinates. Input: $(u_x,u_y,u_z,B_x,B_y,B_z)$**\n",
    "\n",
    "---\n",
    "\n",
    "Examples of uses are below (Specifically the transfomations)"
   ]
  },
  {
   "cell_type": "code",
   "execution_count": null,
   "id": "c7cd7eb6",
   "metadata": {},
   "outputs": [],
   "source": [
    "# Imports required for Coordinate_systems\n",
    "import numpy as np\n",
    "\n",
    "# Import module\n",
    "import Coordinate_systems as co"
   ]
  },
  {
   "cell_type": "code",
   "execution_count": null,
   "id": "62d4fb88",
   "metadata": {},
   "outputs": [],
   "source": [
    "# Magnitude of a vector\n",
    "vec = np.array([1,2,3])\n",
    "print(co.mag(vec))"
   ]
  },
  {
   "cell_type": "markdown",
   "id": "f7aea9eb",
   "metadata": {},
   "source": [
    "### Example for the use of these functions\n",
    "Here I find the SWI basis and transform a vector defined in the GSE basis and transform it into the SWI basis."
   ]
  },
  {
   "cell_type": "code",
   "execution_count": null,
   "id": "55737bf3",
   "metadata": {},
   "outputs": [],
   "source": [
    "# Having a vector in GSE and converting to SWI\n",
    "# Initial GSE vector (example uses first Berdichevsky solar wind vector)\n",
    "\n",
    "u_sw_GSE = np.array([-443,-76,25]) # Bulk\n",
    "\n",
    "# Magnetic field (for first shock in Berdichevsky) in spherical GSE:\n",
    "# 'phi_B': (103,5), 'theta_B': (15,11), 'mag_B': (10,1.5)\n",
    "\n",
    "# Convert degrees to radians\n",
    "theta_r = co.deg2rad(15)\n",
    "phi_r   = co.deg2rad(103)\n",
    "mag_B = 10\n",
    "\n",
    "# Convert B-field sphericals to cartesians \n",
    "B_sw_GSE = co.spher2cart_GSE(mag_B,theta_r,phi_r) # make sure in radians!!\n",
    "\n",
    "# ---------- Transforming coordinate systems\n",
    "Basis_matrix = co.swi_base(u_sw_GSE[0],u_sw_GSE[1],u_sw_GSE[2],B_sw_GSE[0],B_sw_GSE[1],B_sw_GSE[2])\n",
    "\n",
    "# Use this matrix to transform a vector defined in GSE\n",
    "\n",
    "vector_in_GSE = np.array([1,2,3]) # some vector in GSE\n",
    "\n",
    "# Transfom to SWI\n",
    "vector_in_SWI = co.GSE2SWI(vector_in_GSE,Basis_matrix)\n",
    "\n",
    "print('vector in GSE: ', vector_in_GSE)\n",
    "print('vector in SWI: ', vector_in_SWI)\n",
    "print('showing the the magnitude is conserved (as it should be for coordinate transfroms of vectors)')\n",
    "print('GSE mag', co.mag(vector_in_GSE))\n",
    "print('SWI mag', co.mag(vector_in_SWI))"
   ]
  },
  {
   "cell_type": "markdown",
   "id": "10c56f5d",
   "metadata": {},
   "source": [
    "### Shocks_propagation.py <a name=\"shocks_prop_mod\"></a>\n",
    "\n",
    "This module contains some useful functions when analysing shocks. Again you will need to change the paths to files in the modules.\n",
    "\n",
    "For more detail on the functions please look at the module file as it contains descriptions and instructions on what the functions do.\n",
    "\n",
    "Module Contents:\n",
    "\n",
    "   - Imports\n",
    "\n",
    "   - Magnetosphere Module\n",
    "\n",
    "   - Hypotheses\n",
    "       - vec_add_hyp | **Will calculate the shock velocity vector given a point in the MSH**\n",
    "   \n",
    "   - Random Point inside Magnetosheath\n",
    "       - rand_msh_point_SWI | **This provides a fairly sampled point inside the MSH for a given $\\theta$ limit**\n",
    "\n",
    "   - Propegation functions | **These are old functions, however can come in handy when wanting to know the points along the path taken in a straght line inside the MSH**\n",
    "       - propegation_V1\n",
    "       - propegation_V2"
   ]
  },
  {
   "cell_type": "markdown",
   "id": "b9b98cea",
   "metadata": {},
   "source": [
    "## Important!\n",
    "None of these functions are accounting for **dynamic pressure** as when I originally wrote them I was not accounting for dynamic pressure!\n",
    "\n",
    "This can be easily fixed by adding in a input for the density and solar wind speed (in SI units) and then coounting for the DP in the ```msh.``` functions!"
   ]
  },
  {
   "cell_type": "markdown",
   "id": "4dfcd2e9",
   "metadata": {},
   "source": [
    "**Imports**"
   ]
  },
  {
   "cell_type": "code",
   "execution_count": null,
   "id": "5dd12ef2",
   "metadata": {},
   "outputs": [],
   "source": [
    "# Imports\n",
    "import Coordinate_systems as co\n",
    "#\n",
    "#\n",
    "import numpy as np\n",
    "#\n",
    "# -----------------------------------------------------\n",
    "# These Imports are used specifically for Welle's Code:\n",
    "#\n",
    "# - - - - - - - - - For g-calculation - - - - - - - - -\n",
    "import numpy as np\n",
    "import pandas as pd\n",
    "import matplotlib.pyplot as plt\n",
    "import os\n",
    "import sklearn\n",
    "#\n",
    "# - - - - For r_magnetosheath and r_magnetopause - - - \n",
    "#\n",
    "# This will need changing for user of the module\n",
    "# ------------ PASTE THESE IN MAIN CODE ---------------\n",
    "import sys\n",
    "sys.path.append('/Users/christopherbutcher/Downloads/Summer Masterclass/space')\n",
    "import space\n",
    "from space.models import planetary as smp\n",
    "from space import smath as sm\n",
    "from space.coordinates import coordinates as scc\n",
    "from space import utils as su"
   ]
  },
  {
   "cell_type": "code",
   "execution_count": null,
   "id": "97eb6ec9",
   "metadata": {},
   "outputs": [],
   "source": [
    "import Shocks_propagation as shks"
   ]
  },
  {
   "cell_type": "markdown",
   "id": "d0730a98",
   "metadata": {},
   "source": [
    "**Example - Random point inside MSH**"
   ]
  },
  {
   "cell_type": "code",
   "execution_count": null,
   "id": "700fe005",
   "metadata": {},
   "outputs": [],
   "source": [
    "# Random point given some theta_max\n",
    "theta_max = 100\n",
    "rand_point = shks.rand_msh_point_SWI(theta_max) # theta_max in degrees\n",
    "print('Here is a random point in the magnetosheath given some maximum theta: ', rand_point)\n",
    "\n",
    "# You might want to know what the minimum x-value sampled is...\n",
    "X_min = -co.mag(msh.bow_shock(co.deg2rad(theta_max),0))*np.cos(np.pi-co.deg2rad(theta_max))\n",
    "\n",
    "print('The minimum x-value is therfore: ',X_min)"
   ]
  },
  {
   "cell_type": "markdown",
   "id": "07b274c7",
   "metadata": {},
   "source": [
    "## V2_Rand_prop_points.py <a name='rand_point'></a>\n",
    "\n",
    "This is a python file that you can run and find the f-value distribution for randomly sampled points (for non-inclined shocks) inside the magnetosheath. You will need to enter 3 things:\n",
    "1. The number of points to be sampled\n",
    "2. The path intigral step size\n",
    "3. The maximum theta value for which the points can be sampled in (it will then say the minimum x-value samples)\n",
    "\n",
    "To run this file you will require all the modules and files previously mentioned (the pkl file ect). You will also need to change the paths to these files as required. To run in the terminal:\n",
    "```python3 V2_Rand_prop_points.py```"
   ]
  },
  {
   "cell_type": "markdown",
   "id": "25dbba2b",
   "metadata": {},
   "source": [
    "## Berdichevsky Shock json file <a name='shocks_file'></a>\n",
    "Here I have the code that makes the Berdichevsky data into a json file.\n",
    "\n",
    "I then have some code that will convert these values of data into GSE cartesians or alternitavly into SWI cartesians (see below)\n"
   ]
  },
  {
   "cell_type": "code",
   "execution_count": null,
   "id": "4076df67",
   "metadata": {},
   "outputs": [],
   "source": [
    "# ===========================================================================================================================\n",
    "# =================================== This can be removed after script has been ran once ====================================\n",
    "# ===========================================================================================================================\n",
    "\n",
    "import json\n",
    "\n",
    "Shocks_from_Berdichevsky = {\n",
    "        '1': {'Vs_up':(120,20), 'Vs': (-443,-76,25), 'phi_shock': (214,3), 'theta_shock': (17,3), 'phi_B': (103,5), 'theta_B': (15,11), 'mag_B': (10,1.5)},\n",
    "        '2': {'Vs_up':(61,10), 'Vs': (-376,-10,9), 'phi_shock': (190,12), 'theta_shock': (10,8), 'phi_B': ('Na','Na'), 'theta_B': ('Na','Na'), 'mag_B': ('Na','Na')},\n",
    "        '3': {'Vs_up':(94,7), 'Vs': (-474,-8,33), 'phi_shock': (202,2), 'theta_shock': (44,2), 'phi_B': (270,1), 'theta_B': (17,0.5), 'mag_B': (4.1,0.2)},\n",
    "        '5': {'Vs_up':(90,5), 'Vs': (-375,4,-30), 'phi_shock': (170,6), 'theta_shock': (-15,4), 'phi_B': (84,2), 'theta_B': (-41,4), 'mag_B': (3.9,0.2)},\n",
    "        '10': {'Vs_up':(80,8), 'Vs': (-386,-50,15), 'phi_shock': (206,14), 'theta_shock': (2,2), 'phi_B': (176,19), 'theta_B': (19,14), 'mag_B': (2.0,0.4)},\n",
    "        '11': {'Vs_up':(75,10), 'Vs': (-381,12,44), 'phi_shock': (147,7), 'theta_shock': (30,2), 'phi_B': (290,12), 'theta_B': (20,14), 'mag_B': (2.1,0.5)},\n",
    "        '12': {'Vs_up':(73,8), 'Vs': (-385,-6,-20), 'phi_shock': (185,5), 'theta_shock': (-21,5), 'phi_B': (250,4), 'theta_B': (20,13), 'mag_B': (6.6,1.0)},\n",
    "        '13': {'Vs_up':(110,20), 'Vs': (-408,-36,-18), 'phi_shock': (202,9), 'theta_shock': (-9,7), 'phi_B': (85,68), 'theta_B': (0,90), 'mag_B': (0.7,1.2)},\n",
    "        '14': {'Vs_up':(137,5), 'Vs': (-467,72,52), 'phi_shock': (128,0), 'theta_shock': (21,0), 'phi_B': ('Na','Na'), 'theta_B': ('Na','Na'), 'mag_B': ('Na','Na')},\n",
    "        '15': {'Vs_up':(110,25), 'Vs': (-433,-30,84), 'phi_shock': (120,7), 'theta_shock': (48,3), 'phi_B': (104,3), 'theta_B': (0,6), 'mag_B': (4.4,0.1)},\n",
    "        '16': {'Vs_up':(60,10), 'Vs': (-342,1,-84), 'phi_shock': (182,10), 'theta_shock': (-48,12), 'phi_B': (87,3), 'theta_B': (-10,3), 'mag_B': (3.6,0.2)},\n",
    "        '17': {'Vs_up':(39,7), 'Vs': (-346,-24,-1), 'phi_shock': (162,5), 'theta_shock': (13,3), 'phi_B': (316,4), 'theta_B': (13,8), 'mag_B': (3.4,0.4)},\n",
    "        '18': {'Vs_up':(100,10), 'Vs': (-416,-85,-54), 'phi_shock': (205,4), 'theta_shock': (-15,2), 'phi_B': (141,16), 'theta_B': (-9,14), 'mag_B': (6.5,1.6)},\n",
    "# Prev in data (Reverse Shock)'19': {'Vs_up':(125,15), 'Vs': (-509,-28,71), 'phi_shock': (,), 'theta_shock': (,)},\n",
    "        '20': {'Vs_up':(52,8), 'Vs': (-391,-11,7), 'phi_shock': (188,6), 'theta_shock': (16,12), 'phi_B': (17,0.6), 'theta_B': (23,2), 'mag_B': (4.1,0.2)},\n",
    "        '21': {'Vs_up':(45,12), 'Vs': (-422,-3,20), 'phi_shock': (185,7), 'theta_shock': (45,15), 'phi_B': (352,6), 'theta_B': (11,3), 'mag_B': (3.0,0.2)},\n",
    "        '22': {'Vs_up':(50,15), 'Vs': (-359,-9,45), 'phi_shock': (156,24), 'theta_shock': (55,7), 'phi_B': (4.7,0.1), 'theta_B': (10,3), 'mag_B': (2.7,0.3)},\n",
    "        '23': {'Vs_up':(52,10), 'Vs': (-380,-20,22), 'phi_shock': (202,2), 'theta_shock': (25,8), 'phi_B': (112,2), 'theta_B': (25,2), 'mag_B': (4.4,0.2)},\n",
    "        '24': {'Vs_up':(70,7), 'Vs': (-318,-49,49), 'phi_shock': (213,3), 'theta_shock': (50,3), 'phi_B': (138,5), 'theta_B': (15,2), 'mag_B': (5.7,0.4)},\n",
    "        '25': {'Vs_up':(75,15), 'Vs': (-478,-5,-6), 'phi_shock': (168,5), 'theta_shock': (4,4), 'phi_B': (253,3), 'theta_B': (-15,7), 'mag_B': (7.6,0.8)},\n",
    "        '26': {'Vs_up':(60,20), 'Vs': (-355,-32,-22), 'phi_shock': (187,10), 'theta_shock': (-24,5), 'phi_B': (143,10), 'theta_B': (9,5), 'mag_B': (2.0,0.2)},\n",
    "        '28': {'Vs_up':(55,16), 'Vs': (-329,-11,15), 'phi_shock': (169,3), 'theta_shock': (21,2), 'phi_B': (149,3), 'theta_B': (36,10), 'mag_B': (4.7,0.6)},\n",
    "        '29': {'Vs_up':(40,10), 'Vs': (-370,-20,0.5), 'phi_shock': (194,10), 'theta_shock': (-6,7), 'phi_B': (164,19), 'theta_B': (26,27), 'mag_B': (2.2,0.8)},\n",
    "        '30': {'Vs_up':(75,8), 'Vs': (-439,-31,-18), 'phi_shock': (200,3), 'theta_shock': (-30,3), 'phi_B': (161,4), 'theta_B': (8,7), 'mag_B': (2.2,0.3)},\n",
    "        '32': {'Vs_up':(115,13), 'Vs': (-632,44,-26), 'phi_shock': (197,26), 'theta_shock': (5,5), 'phi_B': (204,9), 'theta_B': (30,11), 'mag_B': (3.6,0.6)},\n",
    "        '33': {'Vs_up':(77,6), 'Vs': (-393,-17,24), 'phi_shock': (184,1), 'theta_shock': (-10,1), 'phi_B': (348,6), 'theta_B': (29,8), 'mag_B': (4.5,0.5)},\n",
    "        '34': {'Vs_up':(53,3), 'Vs': (-337,-16,43), 'phi_shock': (194,1), 'theta_shock': (52,0.5), 'phi_B': (72,2), 'theta_B': (29,8), 'mag_B': (3.1,0.4)},\n",
    "        '35': {'Vs_up':(72,10), 'Vs': (-378,-14,53), 'phi_shock': (199,8), 'theta_shock': (58,3), 'phi_B': (291,17), 'theta_B': (-20,24), 'mag_B': (2.0,0.6)},\n",
    "        '36': {'Vs_up':(91,10), 'Vs': (-359,-5.5,77), 'phi_shock': (160,7), 'theta_shock': (51,5), 'phi_B': (330,20), 'theta_B': (45,12), 'mag_B': (7.0,1.5)},\n",
    "        '38': {'Vs_up':(64,6), 'Vs': (-372,-17,43), 'phi_shock': (217,2), 'theta_shock': (49,2), 'phi_B': (14,0.5), 'theta_B': (-11,32), 'mag_B': (2.0,0.8)},\n",
    "        '39': {'Vs_up':(121,10), 'Vs': (-422,-70,-58), 'phi_shock': (208,0.5), 'theta_shock': (-19,1), 'phi_B': (113,2), 'theta_B': (-17,5), 'mag_B': (7.2,0.5)},\n",
    "        '40': {'Vs_up':(58,6), 'Vs': (-344,16,-32), 'phi_shock': (190,20), 'theta_shock': (-15,12), 'phi_B': (142,9), 'theta_B': (-28,11), 'mag_B': (3.4,0.8)},\n",
    "        '41': {'Vs_up':(73,7), 'Vs': (-363,-6,-32), 'phi_shock': (185,2), 'theta_shock': (-20,1), 'phi_B': (103,18), 'theta_B': (37,16), 'mag_B': (4.8,1.3)},\n",
    "        '42': {'Vs_up':(60,9), 'Vs': (-339,-10,-36), 'phi_shock': (176,14), 'theta_shock': (-26,7), 'phi_B': (158,1), 'theta_B': (-8,21), 'mag_B': (2.5,0.5)}\n",
    "                            }\n",
    "\n",
    "with open('shocks_from_Berdichevsky.json', 'w') as f:\n",
    "    json.dump(Shocks_from_Berdichevsky, f)"
   ]
  },
  {
   "cell_type": "markdown",
   "id": "d43f1d3f",
   "metadata": {},
   "source": [
    "### Converting data into useful arrays\n",
    "\n",
    "Below I have some code that will change this data into a more useful array format where all arrays are in cartesians (GSE or SWI).\n",
    "\n",
    "1. GSE cartesian coordinate arrays\n",
    "2. SWI cartesian coordinate arrays\n",
    "\n"
   ]
  },
  {
   "cell_type": "markdown",
   "id": "2a6adeb8",
   "metadata": {},
   "source": [
    "### 1. GSE cartesian coordinate arrays"
   ]
  },
  {
   "cell_type": "code",
   "execution_count": null,
   "id": "a776c008",
   "metadata": {},
   "outputs": [],
   "source": [
    "# ============================================================================================================================\n",
    "# ========================== Storing values of solar wind and shock data in GSE coordinates (from JSON file) =================\n",
    "# ============================================================================================================================\n",
    "#\n",
    "# Storing values of solar wind and shock data in GSE coordinates (from JSON file)\n",
    "#\n",
    "v_sw_cart_GSE_shocks   = []\n",
    "u_sw_cart_GSE_shocks   = []\n",
    "B_field_GSE_shocks     = []\n",
    "shock_index            = [] # This allows you to give later refernece to which shock in Berdichevsky produced this\n",
    "\n",
    "\n",
    "for shock in Shocks_from_Berdichevsky:\n",
    "    \n",
    "    \n",
    "    # -------------- B-field Direction ------------\n",
    "    #\n",
    "    # Some do not have a calculated B-field\n",
    "    if Shocks_from_Berdichevsky[shock]['mag_B'][0]=='Na':\n",
    "        \n",
    "        pass\n",
    "        \n",
    "    else:\n",
    "        \n",
    "        # ---------------------------------- Solar wind --------------------------\n",
    "        # solar wind GSE cartisian vector\n",
    "        u_sw_GSE = Shocks_from_Berdichevsky[shock]['Vs']\n",
    "        \n",
    "        # Storing solar wind data\n",
    "        u_sw_cart_GSE_shocks.append(np.asarray(u_sw_GSE))\n",
    "        \n",
    "        \n",
    "        # ---------------------------------- Shock data --------------------------\n",
    "        # shock normal vector (in GSE spherical polars)     + solar wind\n",
    "        v_sw_mag = Shocks_from_Berdichevsky[shock]['Vs_up'][0] + co.mag(u_sw_GSE)\n",
    "        \n",
    "        # Shock normal in GSE cartisans (conversion)\n",
    "        v_sw_cart_GSE = co.spher2cart_GSE(v_sw_mag,co.deg2rad(Shocks_from_Berdichevsky[shock]['theta_shock'][0]),co.deg2rad(Shocks_from_Berdichevsky[shock]['phi_shock'][0]))\n",
    "        \n",
    "        # Storing v_sw directions\n",
    "        v_sw_cart_GSE_shocks.append(v_sw_cart_GSE)\n",
    "        \n",
    "        # ----------------------------------- Magnetic field data ----------------\n",
    "        \n",
    "        B_field_GSE_shocks.append(co.spher2cart_GSE(Shocks_from_Berdichevsky[shock]['mag_B'][0],co.deg2rad(Shocks_from_Berdichevsky[shock]['theta_B'][0]),co.deg2rad(Shocks_from_Berdichevsky[shock]['phi_B'][0])))\n",
    "        \n",
    "        \n",
    "        # ------------------ Shock Index -----------------------------------------\n",
    "        # Each shocks index\n",
    "        shock_index.append(int(shock))"
   ]
  },
  {
   "cell_type": "markdown",
   "id": "f2894cfa",
   "metadata": {},
   "source": [
    "### 2. SWI cartesian coordinate arrays"
   ]
  },
  {
   "cell_type": "code",
   "execution_count": null,
   "id": "0ac321eb",
   "metadata": {},
   "outputs": [],
   "source": [
    "# ==========================================================================================================================\n",
    "# ===================================== Transforming GSE coordinates to SWI coordinates ====================================\n",
    "# ==========================================================================================================================\n",
    "\n",
    "u_sw_cart_SWI_shocks      = []\n",
    "v_sw_cart_SWI_shocks      = []\n",
    "#initial_cart_shock_points = []\n",
    "\n",
    "for i in range(0,len(shock_index),1):\n",
    "    \n",
    "    #                                     x_GSE                   y_GSE                      z_GSE                          B_x                     B_y                          B_z\n",
    "    SWI_base_matrix = co.swi_base(u_sw_cart_GSE_shocks[i][0],u_sw_cart_GSE_shocks[i][1],u_sw_cart_GSE_shocks[i][2],B_field_GSE_shocks[i][0],B_field_GSE_shocks[i][1],B_field_GSE_shocks[i][2])\n",
    "    \n",
    "    \n",
    "    # ------------------------- Solar wind vectors to SWI coordinates ------------------\n",
    "    u_sw_cart_SWI = co.GSE2SWI(u_sw_cart_GSE_shocks[i],SWI_base_matrix)\n",
    "    \n",
    "    u_sw_cart_SWI_shocks.append(u_sw_cart_SWI)\n",
    "    \n",
    "    # ------------------------------- Shock normal vectors -----------------------------\n",
    "    v_sw_cart_SWI = co.GSE2SWI(v_sw_cart_GSE_shocks[i],SWI_base_matrix)\n",
    "    \n",
    "    v_sw_cart_SWI_shocks.append(v_sw_cart_SWI)"
   ]
  },
  {
   "cell_type": "markdown",
   "id": "204f9eb2",
   "metadata": {},
   "source": [
    "These arrays now contain the values in GSE or SWI cartesian coordinate arrays. This is useful as you often wish to use SWI coordinates (due to the Bow shock)."
   ]
  },
  {
   "cell_type": "code",
   "execution_count": null,
   "id": "73ed05c1",
   "metadata": {},
   "outputs": [],
   "source": []
  }
 ],
 "metadata": {
  "kernelspec": {
   "display_name": "Python 3 (ipykernel)",
   "language": "python",
   "name": "python3"
  },
  "language_info": {
   "codemirror_mode": {
    "name": "ipython",
    "version": 3
   },
   "file_extension": ".py",
   "mimetype": "text/x-python",
   "name": "python",
   "nbconvert_exporter": "python",
   "pygments_lexer": "ipython3",
   "version": "3.10.8"
  }
 },
 "nbformat": 4,
 "nbformat_minor": 5
}
