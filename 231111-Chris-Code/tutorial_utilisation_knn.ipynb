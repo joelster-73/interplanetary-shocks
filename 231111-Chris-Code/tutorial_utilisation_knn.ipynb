{
 "cells": [
  {
   "cell_type": "code",
   "execution_count": 1,
   "id": "abe4405b-506e-491a-b94a-4b1797c42404",
   "metadata": {
    "tags": []
   },
   "outputs": [],
   "source": [
    "import numpy as np\n",
    "import pandas as pd\n",
    "import matplotlib.pyplot as plt\n",
    "import sys"
   ]
  },
  {
   "cell_type": "code",
   "execution_count": 2,
   "id": "14f161fd-8451-402d-a0fb-885bc95dd64c",
   "metadata": {},
   "outputs": [],
   "source": [
    "import numpy as np\n",
    "import pandas as pd\n",
    "import matplotlib.pyplot as plt\n",
    "import sys\n",
    "import os\n",
    "import sklearn"
   ]
  },
  {
   "cell_type": "code",
   "execution_count": 3,
   "id": "ef6bb181-159c-49dd-bdc1-8a19c36615a7",
   "metadata": {},
   "outputs": [
    {
     "data": {
      "text/plain": [
       "'3.9.7 (default, Sep 16 2021, 08:50:36) \\n[Clang 10.0.0 ]'"
      ]
     },
     "execution_count": 3,
     "metadata": {},
     "output_type": "execute_result"
    }
   ],
   "source": [
    "sys.version"
   ]
  },
  {
   "cell_type": "code",
   "execution_count": 4,
   "id": "4d493741-d7cb-41fc-995b-f00b4acc762f",
   "metadata": {},
   "outputs": [
    {
     "name": "stdout",
     "output_type": "stream",
     "text": [
      "/Users/christopherbutcher/Physics/propagation of interplanetary shocks/Welle Code\n"
     ]
    }
   ],
   "source": [
    "print(os.getcwd())"
   ]
  },
  {
   "cell_type": "markdown",
   "id": "ebfdfb2c-710f-415c-9ede-6bfe76a9f307",
   "metadata": {},
   "source": [
    "## package space\n",
    "1) download the \"space\" package from git :\n",
    "    git clone https://github.com/LaboratoryOfPlasmaPhysics/space\n",
    "2) import the package (cf the cell below, where you may need to adapt the \"path\")"
   ]
  },
  {
   "cell_type": "code",
   "execution_count": 5,
   "id": "085d8601-2b38-4afe-a204-40a3908b9c91",
   "metadata": {
    "tags": []
   },
   "outputs": [
    {
     "ename": "ModuleNotFoundError",
     "evalue": "No module named 'space'",
     "output_type": "error",
     "traceback": [
      "\u001b[0;31m---------------------------------------------------------------------------\u001b[0m",
      "\u001b[0;31mModuleNotFoundError\u001b[0m                       Traceback (most recent call last)",
      "\u001b[0;32m/var/folders/k3/pvd7fbjx69nddqvs0ps2tngh0000gn/T/ipykernel_63844/937436838.py\u001b[0m in \u001b[0;36m<module>\u001b[0;34m\u001b[0m\n\u001b[1;32m      1\u001b[0m \u001b[0msys\u001b[0m\u001b[0;34m.\u001b[0m\u001b[0mpath\u001b[0m\u001b[0;34m.\u001b[0m\u001b[0mappend\u001b[0m\u001b[0;34m(\u001b[0m\u001b[0;34m'./space'\u001b[0m\u001b[0;34m)\u001b[0m\u001b[0;34m\u001b[0m\u001b[0;34m\u001b[0m\u001b[0m\n\u001b[0;32m----> 2\u001b[0;31m \u001b[0;32mimport\u001b[0m \u001b[0mspace\u001b[0m\u001b[0;34m\u001b[0m\u001b[0;34m\u001b[0m\u001b[0m\n\u001b[0m\u001b[1;32m      3\u001b[0m \u001b[0;32mfrom\u001b[0m \u001b[0mspace\u001b[0m\u001b[0;34m.\u001b[0m\u001b[0mmodels\u001b[0m \u001b[0;32mimport\u001b[0m \u001b[0mplanetary\u001b[0m \u001b[0;32mas\u001b[0m \u001b[0msmp\u001b[0m\u001b[0;34m\u001b[0m\u001b[0;34m\u001b[0m\u001b[0m\n\u001b[1;32m      4\u001b[0m \u001b[0;32mfrom\u001b[0m \u001b[0mspace\u001b[0m \u001b[0;32mimport\u001b[0m \u001b[0msmath\u001b[0m \u001b[0;32mas\u001b[0m \u001b[0msm\u001b[0m\u001b[0;34m\u001b[0m\u001b[0;34m\u001b[0m\u001b[0m\n\u001b[1;32m      5\u001b[0m \u001b[0;32mfrom\u001b[0m \u001b[0mspace\u001b[0m\u001b[0;34m.\u001b[0m\u001b[0mcoordinates\u001b[0m \u001b[0;32mimport\u001b[0m \u001b[0mcoordinates\u001b[0m \u001b[0;32mas\u001b[0m \u001b[0mscc\u001b[0m\u001b[0;34m\u001b[0m\u001b[0;34m\u001b[0m\u001b[0m\n",
      "\u001b[0;31mModuleNotFoundError\u001b[0m: No module named 'space'"
     ]
    }
   ],
   "source": [
    "sys.path.append('./space')\n",
    "import space\n",
    "from space.models import planetary as smp\n",
    "from space import smath as sm\n",
    "from space.coordinates import coordinates as scc\n",
    "from space import utils as su"
   ]
  },
  {
   "cell_type": "code",
   "execution_count": 6,
   "id": "dcc40e10-62f5-4a44-93c8-e8b40f4feefd",
   "metadata": {},
   "outputs": [],
   "source": [
    "# magnetosheath model using shue98 et jelinek2012\n",
    "msh = smp.Magnetosheath(magnetopause='mp_shue1998', bow_shock ='bs_jelinek2012')"
   ]
  },
  {
   "cell_type": "code",
   "execution_count": 7,
   "id": "2fa4cf53-5f7c-41f2-9488-474495b309d0",
   "metadata": {
    "tags": []
   },
   "outputs": [
    {
     "name": "stdout",
     "output_type": "stream",
     "text": [
      "nose of the magnetopause : (10.20902894053932, 0.0, 0.0)\n",
      "\n",
      "nose of the bow shock : (13.454889791750555, 0.0, 0.0)\n",
      "\n",
      "nose of the magnetopause for dynamic pressure of 3nPa : (9.22977189819985, 0.0, 0.0)\n",
      "\n",
      "nez of the bow shock for dynamic pressure of 3nPa : (12.154927611159202, 0.0, 0.0)\n",
      "\n",
      "magnetopause terminator (x=0) in cartesian coordinates: \n",
      "x =  9.409901333005365e-16 \n",
      "y =  [ 0.00000000e+00  4.98983049e+00  9.43893542e+00  1.28651852e+01\n",
      "  1.48972926e+01  1.53150472e+01  1.40731787e+01  1.13062630e+01\n",
      "  7.31413827e+00  2.52941314e+00 -2.52941314e+00 -7.31413827e+00\n",
      " -1.13062630e+01 -1.40731787e+01 -1.53150472e+01 -1.48972926e+01\n",
      " -1.28651852e+01 -9.43893542e+00 -4.98983049e+00 -3.76396053e-15] \n",
      "z =  [ 15.3675351   14.53487966  12.12714447   8.40524502   3.77250684\n",
      "  -1.26904099  -6.17306854 -10.40814832 -13.51534374 -15.15794195\n",
      " -15.15794195 -13.51534374 -10.40814832  -6.17306854  -1.26904099\n",
      "   3.77250684   8.40524502  12.12714447  14.53487966  15.3675351 ]\n",
      "\n",
      "magnetopause terminator (x=0) in spherical coordinates: \n",
      "r =  15.36753509592628 \n",
      "theta =  1.5707963267948966 \n",
      "phi =  [0.         0.33069396 0.66138793 0.99208189 1.32277585 1.65346982\n",
      " 1.98416378 2.31485774 2.64555171 2.97624567 3.30693964 3.6376336\n",
      " 3.96832756 4.29902153 4.62971549 4.96040945 5.29110342 5.62179738\n",
      " 5.95249134 6.28318531]\n"
     ]
    }
   ],
   "source": [
    "# exemple d'utilisation de l'objet magnetogaine dont les arguments sont (theta,phi,kwargs) avec theta l'angle d'élevation par rapport à l'axe X et phi l'angle dans le cadrant YZ (phi=0 -> Y=0 et Z>0)\n",
    "print('nose of the magnetopause :', msh.magnetopause(0,0))\n",
    "print('\\nnose of the bow shock :', msh.bow_shock(0,0))\n",
    "# utilisation des kwargs pour changer les paramètres de vent solaire \n",
    "print('\\nnose of the magnetopause for dynamic pressure of 3nPa :', msh.magnetopause(0,0,Pd=4))\n",
    "print('\\nnez of the bow shock for dynamic pressure of 3nPa :', msh.bow_shock(0,0,Pd=4))\n",
    "# possibilité d'utiliser aves des array 1D ou 2D\n",
    "print('\\nmagnetopause terminator (x=0) in cartesian coordinates: ')\n",
    "x,y,z = msh.magnetopause(np.pi/2, np.linspace(0,2*np.pi,20))\n",
    "print('x = ', x,'\\ny = ',y,'\\nz = ',z)\n",
    "print('\\nmagnetopause terminator (x=0) in spherical coordinates: ')\n",
    "r,theta,phi = msh.magnetopause(np.pi/2, np.linspace(0,2*np.pi,20),coord_sys='spherical')\n",
    "print('r = ', r,'\\ntheta = ',theta,'\\nphi = ',phi)"
   ]
  },
  {
   "cell_type": "code",
   "execution_count": 8,
   "id": "66b40796-f2f7-42bf-915d-e327a9377276",
   "metadata": {
    "tags": []
   },
   "outputs": [],
   "source": [
    "# charger le knn qui à été entrainer dans le systeme de coordonnée SWI avec K= 50 000 pts  :\n",
    "interpvall = pd.read_pickle('KNN_swi_Vall_k50000.pkl')"
   ]
  },
  {
   "cell_type": "markdown",
   "id": "c198735c-9f51-4494-8b3c-1d7e76b5606d",
   "metadata": {},
   "source": [
    "# The KNN is only valid between the average models of Shue 1998 and Jelinek 2012. "
   ]
  },
  {
   "cell_type": "code",
   "execution_count": 9,
   "id": "58958539-eff0-4e58-b1e2-5f3f038c2541",
   "metadata": {},
   "outputs": [],
   "source": [
    "x_bow_shock = msh.bow_shock(0,0)[0]\n",
    "x_magnetopause = msh.magnetopause(0,0)[0]\n",
    "\n",
    "Dx_msh = x_bow_shock - x_magnetopause"
   ]
  },
  {
   "cell_type": "code",
   "execution_count": 10,
   "id": "6fcbb9fd-11f2-459a-8081-457871a1356e",
   "metadata": {
    "tags": []
   },
   "outputs": [
    {
     "data": {
      "text/plain": [
       "(array([-0.21821791]), array([-0.02315195]), array([-0.01266387]))"
      ]
     },
     "execution_count": 10,
     "metadata": {},
     "output_type": "execute_result"
    }
   ],
   "source": [
    "# usage for a single point:\n",
    "x,y,z = x_magnetopause + 1*Dx_msh, 0, 0\n",
    "pos = np.asarray([[x,y,z]])\n",
    "vx,vy,vz = interpvall.predict(pos).T\n",
    "vx,vy,vz"
   ]
  },
  {
   "cell_type": "code",
   "execution_count": 11,
   "id": "d0b91355-3748-451b-89eb-6c1ce52c4c94",
   "metadata": {},
   "outputs": [
    {
     "name": "stdout",
     "output_type": "stream",
     "text": [
      " average of vmsh/vsw mid magnetsheath at the terminator  =  [0.21980774]\n"
     ]
    }
   ],
   "source": [
    "v = sm.norm(vx,vy,vz) # calculation of the norm\n",
    "print(' average of vmsh/vsw mid magnetsheath at the terminator  = ', v)"
   ]
  },
  {
   "cell_type": "code",
   "execution_count": 12,
   "id": "b62779eb-4c74-4479-ab17-15489cc0b97d",
   "metadata": {
    "tags": []
   },
   "outputs": [],
   "source": [
    "# usage for several points in the middle of the magneotsheath at the terminator :\n",
    "theta = np.pi/2 \n",
    "phi = np.linspace(0,2*np.pi,100)\n",
    "rbs = msh.bow_shock(theta,phi,coord_sys='spherical')[0]\n",
    "rmp = msh.bow_shock(theta,phi,coord_sys='spherical')[0]\n",
    "r= rmp + 0.5*(rbs-rmp) # radius corresponding to the middle of the magnetosheath\n",
    "x,y,z = scc.spherical_to_cartesian(r,theta,phi)\n",
    "x = np.zeros_like(y)+x #all the arrays must have the same dimension ( x = theta's dimension, here 1 , y and z have the dimension of phi, here 100 )\n",
    "pos = np.asarray([x,y,z]).T # positions must always have shape (n,3)\n",
    "vx,vy,vz = interpvall.predict(pos).T\n"
   ]
  },
  {
   "cell_type": "code",
   "execution_count": null,
   "id": "93371899-fbbd-44a4-8959-0a4f53ba1561",
   "metadata": {},
   "outputs": [],
   "source": []
  },
  {
   "cell_type": "code",
   "execution_count": 13,
   "id": "80c7d5ad-58a5-45b5-915e-aedd6bba1372",
   "metadata": {
    "tags": []
   },
   "outputs": [
    {
     "name": "stdout",
     "output_type": "stream",
     "text": [
      " average of vmsh/vsw mid magnetsheath at the terminator  =  0.7106652764119145\n",
      " standard deviation of vmsh/vsw mid magnetsheath at the terminator  =  0.01228195581311484\n"
     ]
    }
   ],
   "source": [
    "v = sm.norm(vx,vy,vz) # calculation of the norm\n",
    "print(' average of vmsh/vsw mid magnetsheath at the terminator  = ', np.mean(v))\n",
    "print(' standard deviation of vmsh/vsw mid magnetsheath at the terminator  = ', np.std(v)) # Note that the magnetic field has a weird oriention in SWI so Qpara (Y>0) and Qperp (Y<0) do not have exactly the same velocity\n"
   ]
  },
  {
   "cell_type": "code",
   "execution_count": null,
   "id": "798edc12-f878-4ffd-b310-31dc9a86cbd5",
   "metadata": {},
   "outputs": [],
   "source": []
  },
  {
   "cell_type": "code",
   "execution_count": null,
   "id": "35cc7ec2-84e5-42f9-a275-d668f7e76e83",
   "metadata": {},
   "outputs": [],
   "source": []
  }
 ],
 "metadata": {
  "kernelspec": {
   "display_name": "Python 3 (ipykernel)",
   "language": "python",
   "name": "python3"
  },
  "language_info": {
   "codemirror_mode": {
    "name": "ipython",
    "version": 3
   },
   "file_extension": ".py",
   "mimetype": "text/x-python",
   "name": "python",
   "nbconvert_exporter": "python",
   "pygments_lexer": "ipython3",
   "version": "3.10.8"
  }
 },
 "nbformat": 4,
 "nbformat_minor": 5
}
